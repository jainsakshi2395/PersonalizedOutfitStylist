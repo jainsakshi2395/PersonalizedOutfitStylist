{
  "nbformat": 4,
  "nbformat_minor": 0,
  "metadata": {
    "colab": {
      "provenance": [],
      "toc_visible": true
    },
    "kernelspec": {
      "name": "python3",
      "display_name": "Python 3"
    },
    "language_info": {
      "name": "python"
    }
  },
  "cells": [
    {
      "cell_type": "markdown",
      "source": [
        "# **Machine Learning Model: Recommend outfits based on User's determined Age Group.**"
      ],
      "metadata": {
        "id": "s10OziAOT6G8"
      }
    },
    {
      "cell_type": "markdown",
      "source": [
        "## **Part-1:  Predict the age group of the user depending upon his/her Age:**\n",
        "\n",
        "- The age group can be determined depending upon the age of the user. The three age groups that the model supports are - Children, Teen, Adult.\n",
        "- Depending upon the age range, the user's will be alotted to their specific age group for further outfit recommendations."
      ],
      "metadata": {
        "id": "ssi9mmHwUDIZ"
      }
    },
    {
      "cell_type": "markdown",
      "source": [
        "### **Import necessary libraries:**"
      ],
      "metadata": {
        "id": "4Z8VbP2sD7NZ"
      }
    },
    {
      "cell_type": "code",
      "execution_count": 1,
      "metadata": {
        "id": "CsbqbfIeDwrs"
      },
      "outputs": [],
      "source": [
        "import numpy as np"
      ]
    },
    {
      "cell_type": "code",
      "source": [
        "import pandas as pd"
      ],
      "metadata": {
        "id": "9chX7OTyEAIH"
      },
      "execution_count": 2,
      "outputs": []
    },
    {
      "cell_type": "code",
      "source": [
        "path1 = 'https://drive.google.com/uc?id=1uTdERhfpCC0dtc-YyXadY9ZoHShJvsDU'\n",
        "num = pd.read_csv(path1)\n",
        "df = num.loc[:, ['Age']]\n",
        "df.columns = ['Age']\n",
        "df.dropna(inplace=True)"
      ],
      "metadata": {
        "id": "VDiSeV91GnIT"
      },
      "execution_count": 3,
      "outputs": []
    },
    {
      "cell_type": "markdown",
      "source": [
        "**-- Define conditions to determine the age group for user:**"
      ],
      "metadata": {
        "id": "ECRUw5kUcRGV"
      }
    },
    {
      "cell_type": "code",
      "source": [
        "def age_groups(df):\n",
        "    # Add a new column called 'AgeGroups'\n",
        "    df['AgeGroups'] = ''\n",
        "\n",
        "    # Loop through each row in the dataframe\n",
        "    for i in range(len(df)):\n",
        "        # Determine age groups type as - Children, Teen, Adult\n",
        "        age = df.at[i, 'Age']\n",
        "\n",
        "        if age >= 1 and age <= 12:\n",
        "            df.at[i, 'AgeGroups'] = 'Children'\n",
        "        elif age >= 13 and age <= 17:\n",
        "            df.at[i, 'AgeGroups'] = 'Teen'\n",
        "        elif age >= 18 and age < 40:\n",
        "            df.at[i, 'AgeGroups'] = 'Adult'\n",
        "\n",
        "    return df"
      ],
      "metadata": {
        "id": "Cfk0Em6JQ7ID"
      },
      "execution_count": 52,
      "outputs": []
    },
    {
      "cell_type": "code",
      "source": [
        "df = age_groups(df)\n",
        "df"
      ],
      "metadata": {
        "colab": {
          "base_uri": "https://localhost:8080/",
          "height": 424
        },
        "id": "RZZLV6gaRwEA",
        "outputId": "7879ce56-0537-4830-9054-addfd04bccb9"
      },
      "execution_count": 32,
      "outputs": [
        {
          "output_type": "execute_result",
          "data": {
            "text/plain": [
              "     Age AgeGroups                                          Dresstype\n",
              "0     30     Adult  [chic, Off-shoulder, Bodycon, pencil skirt, bl...\n",
              "1     28     Adult  [chic, Off-shoulder, Bodycon, pencil skirt, bl...\n",
              "2     27     Adult  [chic, Off-shoulder, Bodycon, pencil skirt, bl...\n",
              "3     29     Adult  [chic, Off-shoulder, Bodycon, pencil skirt, bl...\n",
              "4     28     Adult  [chic, Off-shoulder, Bodycon, pencil skirt, bl...\n",
              "..   ...       ...                                                ...\n",
              "711   13      Teen                                            Unknown\n",
              "712   10  Children  [t-shirt, jeans, shorts, smock dress, boys, gi...\n",
              "713    4  Children  [t-shirt, jeans, shorts, smock dress, boys, gi...\n",
              "714   13      Teen                                            Unknown\n",
              "715    4  Children  [t-shirt, jeans, shorts, smock dress, boys, gi...\n",
              "\n",
              "[716 rows x 3 columns]"
            ],
            "text/html": [
              "\n",
              "  <div id=\"df-99d33355-4e28-4d2b-8271-adabad55e808\">\n",
              "    <div class=\"colab-df-container\">\n",
              "      <div>\n",
              "<style scoped>\n",
              "    .dataframe tbody tr th:only-of-type {\n",
              "        vertical-align: middle;\n",
              "    }\n",
              "\n",
              "    .dataframe tbody tr th {\n",
              "        vertical-align: top;\n",
              "    }\n",
              "\n",
              "    .dataframe thead th {\n",
              "        text-align: right;\n",
              "    }\n",
              "</style>\n",
              "<table border=\"1\" class=\"dataframe\">\n",
              "  <thead>\n",
              "    <tr style=\"text-align: right;\">\n",
              "      <th></th>\n",
              "      <th>Age</th>\n",
              "      <th>AgeGroups</th>\n",
              "      <th>Dresstype</th>\n",
              "    </tr>\n",
              "  </thead>\n",
              "  <tbody>\n",
              "    <tr>\n",
              "      <th>0</th>\n",
              "      <td>30</td>\n",
              "      <td>Adult</td>\n",
              "      <td>[chic, Off-shoulder, Bodycon, pencil skirt, bl...</td>\n",
              "    </tr>\n",
              "    <tr>\n",
              "      <th>1</th>\n",
              "      <td>28</td>\n",
              "      <td>Adult</td>\n",
              "      <td>[chic, Off-shoulder, Bodycon, pencil skirt, bl...</td>\n",
              "    </tr>\n",
              "    <tr>\n",
              "      <th>2</th>\n",
              "      <td>27</td>\n",
              "      <td>Adult</td>\n",
              "      <td>[chic, Off-shoulder, Bodycon, pencil skirt, bl...</td>\n",
              "    </tr>\n",
              "    <tr>\n",
              "      <th>3</th>\n",
              "      <td>29</td>\n",
              "      <td>Adult</td>\n",
              "      <td>[chic, Off-shoulder, Bodycon, pencil skirt, bl...</td>\n",
              "    </tr>\n",
              "    <tr>\n",
              "      <th>4</th>\n",
              "      <td>28</td>\n",
              "      <td>Adult</td>\n",
              "      <td>[chic, Off-shoulder, Bodycon, pencil skirt, bl...</td>\n",
              "    </tr>\n",
              "    <tr>\n",
              "      <th>...</th>\n",
              "      <td>...</td>\n",
              "      <td>...</td>\n",
              "      <td>...</td>\n",
              "    </tr>\n",
              "    <tr>\n",
              "      <th>711</th>\n",
              "      <td>13</td>\n",
              "      <td>Teen</td>\n",
              "      <td>Unknown</td>\n",
              "    </tr>\n",
              "    <tr>\n",
              "      <th>712</th>\n",
              "      <td>10</td>\n",
              "      <td>Children</td>\n",
              "      <td>[t-shirt, jeans, shorts, smock dress, boys, gi...</td>\n",
              "    </tr>\n",
              "    <tr>\n",
              "      <th>713</th>\n",
              "      <td>4</td>\n",
              "      <td>Children</td>\n",
              "      <td>[t-shirt, jeans, shorts, smock dress, boys, gi...</td>\n",
              "    </tr>\n",
              "    <tr>\n",
              "      <th>714</th>\n",
              "      <td>13</td>\n",
              "      <td>Teen</td>\n",
              "      <td>Unknown</td>\n",
              "    </tr>\n",
              "    <tr>\n",
              "      <th>715</th>\n",
              "      <td>4</td>\n",
              "      <td>Children</td>\n",
              "      <td>[t-shirt, jeans, shorts, smock dress, boys, gi...</td>\n",
              "    </tr>\n",
              "  </tbody>\n",
              "</table>\n",
              "<p>716 rows × 3 columns</p>\n",
              "</div>\n",
              "      <button class=\"colab-df-convert\" onclick=\"convertToInteractive('df-99d33355-4e28-4d2b-8271-adabad55e808')\"\n",
              "              title=\"Convert this dataframe to an interactive table.\"\n",
              "              style=\"display:none;\">\n",
              "        \n",
              "  <svg xmlns=\"http://www.w3.org/2000/svg\" height=\"24px\"viewBox=\"0 0 24 24\"\n",
              "       width=\"24px\">\n",
              "    <path d=\"M0 0h24v24H0V0z\" fill=\"none\"/>\n",
              "    <path d=\"M18.56 5.44l.94 2.06.94-2.06 2.06-.94-2.06-.94-.94-2.06-.94 2.06-2.06.94zm-11 1L8.5 8.5l.94-2.06 2.06-.94-2.06-.94L8.5 2.5l-.94 2.06-2.06.94zm10 10l.94 2.06.94-2.06 2.06-.94-2.06-.94-.94-2.06-.94 2.06-2.06.94z\"/><path d=\"M17.41 7.96l-1.37-1.37c-.4-.4-.92-.59-1.43-.59-.52 0-1.04.2-1.43.59L10.3 9.45l-7.72 7.72c-.78.78-.78 2.05 0 2.83L4 21.41c.39.39.9.59 1.41.59.51 0 1.02-.2 1.41-.59l7.78-7.78 2.81-2.81c.8-.78.8-2.07 0-2.86zM5.41 20L4 18.59l7.72-7.72 1.47 1.35L5.41 20z\"/>\n",
              "  </svg>\n",
              "      </button>\n",
              "      \n",
              "  <style>\n",
              "    .colab-df-container {\n",
              "      display:flex;\n",
              "      flex-wrap:wrap;\n",
              "      gap: 12px;\n",
              "    }\n",
              "\n",
              "    .colab-df-convert {\n",
              "      background-color: #E8F0FE;\n",
              "      border: none;\n",
              "      border-radius: 50%;\n",
              "      cursor: pointer;\n",
              "      display: none;\n",
              "      fill: #1967D2;\n",
              "      height: 32px;\n",
              "      padding: 0 0 0 0;\n",
              "      width: 32px;\n",
              "    }\n",
              "\n",
              "    .colab-df-convert:hover {\n",
              "      background-color: #E2EBFA;\n",
              "      box-shadow: 0px 1px 2px rgba(60, 64, 67, 0.3), 0px 1px 3px 1px rgba(60, 64, 67, 0.15);\n",
              "      fill: #174EA6;\n",
              "    }\n",
              "\n",
              "    [theme=dark] .colab-df-convert {\n",
              "      background-color: #3B4455;\n",
              "      fill: #D2E3FC;\n",
              "    }\n",
              "\n",
              "    [theme=dark] .colab-df-convert:hover {\n",
              "      background-color: #434B5C;\n",
              "      box-shadow: 0px 1px 3px 1px rgba(0, 0, 0, 0.15);\n",
              "      filter: drop-shadow(0px 1px 2px rgba(0, 0, 0, 0.3));\n",
              "      fill: #FFFFFF;\n",
              "    }\n",
              "  </style>\n",
              "\n",
              "      <script>\n",
              "        const buttonEl =\n",
              "          document.querySelector('#df-99d33355-4e28-4d2b-8271-adabad55e808 button.colab-df-convert');\n",
              "        buttonEl.style.display =\n",
              "          google.colab.kernel.accessAllowed ? 'block' : 'none';\n",
              "\n",
              "        async function convertToInteractive(key) {\n",
              "          const element = document.querySelector('#df-99d33355-4e28-4d2b-8271-adabad55e808');\n",
              "          const dataTable =\n",
              "            await google.colab.kernel.invokeFunction('convertToInteractive',\n",
              "                                                     [key], {});\n",
              "          if (!dataTable) return;\n",
              "\n",
              "          const docLinkHtml = 'Like what you see? Visit the ' +\n",
              "            '<a target=\"_blank\" href=https://colab.research.google.com/notebooks/data_table.ipynb>data table notebook</a>'\n",
              "            + ' to learn more about interactive tables.';\n",
              "          element.innerHTML = '';\n",
              "          dataTable['output_type'] = 'display_data';\n",
              "          await google.colab.output.renderOutput(dataTable, element);\n",
              "          const docLink = document.createElement('div');\n",
              "          docLink.innerHTML = docLinkHtml;\n",
              "          element.appendChild(docLink);\n",
              "        }\n",
              "      </script>\n",
              "    </div>\n",
              "  </div>\n",
              "  "
            ]
          },
          "metadata": {},
          "execution_count": 32
        }
      ]
    },
    {
      "cell_type": "code",
      "source": [
        "value_counts = df['AgeGroups'].value_counts()\n",
        "\n",
        "print(value_counts)"
      ],
      "metadata": {
        "colab": {
          "base_uri": "https://localhost:8080/"
        },
        "id": "jKCEHHWER1EQ",
        "outputId": "c5291b5e-b276-46f8-88ee-bad701b0578c"
      },
      "execution_count": 33,
      "outputs": [
        {
          "output_type": "stream",
          "name": "stdout",
          "text": [
            "Children    396\n",
            "Adult       209\n",
            "Teen         78\n",
            "             33\n",
            "Name: AgeGroups, dtype: int64\n"
          ]
        }
      ]
    },
    {
      "cell_type": "markdown",
      "source": [
        "### **Check if the count for every age group is valid:**"
      ],
      "metadata": {
        "id": "ogyHyTE9S9Uw"
      }
    },
    {
      "cell_type": "code",
      "source": [
        "count_rect = len(df[df['AgeGroups'] == 'Children'])\n",
        "print(count_rect)"
      ],
      "metadata": {
        "colab": {
          "base_uri": "https://localhost:8080/"
        },
        "id": "qS-w-RSmR-s6",
        "outputId": "75fb34d1-27ec-4736-bf8d-34b734a1e68b"
      },
      "execution_count": 34,
      "outputs": [
        {
          "output_type": "stream",
          "name": "stdout",
          "text": [
            "396\n"
          ]
        }
      ]
    },
    {
      "cell_type": "code",
      "source": [
        "count_rect = len(df[df['AgeGroups'] == 'Teen'])\n",
        "print(count_rect)"
      ],
      "metadata": {
        "colab": {
          "base_uri": "https://localhost:8080/"
        },
        "id": "Ogp4lGePOM3X",
        "outputId": "51338d24-b568-45e6-a7ea-d99f7c9bcfd3"
      },
      "execution_count": 53,
      "outputs": [
        {
          "output_type": "stream",
          "name": "stdout",
          "text": [
            "78\n"
          ]
        }
      ]
    },
    {
      "cell_type": "code",
      "source": [
        "count_rect = len(df[df['AgeGroups'] == 'Adult'])\n",
        "print(count_rect)"
      ],
      "metadata": {
        "colab": {
          "base_uri": "https://localhost:8080/"
        },
        "id": "x4_ZXJacONf0",
        "outputId": "d5d9ad83-dac8-464c-aa85-271e7ded733c"
      },
      "execution_count": 54,
      "outputs": [
        {
          "output_type": "stream",
          "name": "stdout",
          "text": [
            "209\n"
          ]
        }
      ]
    },
    {
      "cell_type": "markdown",
      "source": [
        "### **Split the dataset into train and test sets:**"
      ],
      "metadata": {
        "id": "VstaoCycTC2S"
      }
    },
    {
      "cell_type": "markdown",
      "source": [
        "**-- Importing necessary libraries:**"
      ],
      "metadata": {
        "id": "YJiSrObrOaGd"
      }
    },
    {
      "cell_type": "code",
      "source": [
        "import pandas as pd\n",
        "from sklearn.model_selection import train_test_split\n",
        "from sklearn.tree import DecisionTreeClassifier\n",
        "from sklearn.metrics import accuracy_score\n",
        "\n"
      ],
      "metadata": {
        "id": "wtojXAHGTCCA"
      },
      "execution_count": 55,
      "outputs": []
    },
    {
      "cell_type": "code",
      "source": [
        "X_train, X_test, y_train, y_test = train_test_split(df[['Age']], df['AgeGroups'], test_size=0.2, random_state=42)\n"
      ],
      "metadata": {
        "id": "JbHxj0HOG8iB"
      },
      "execution_count": 56,
      "outputs": []
    },
    {
      "cell_type": "markdown",
      "source": [
        "### **Create a DecisonTree Classifier and fit it to the training datasets:**"
      ],
      "metadata": {
        "id": "wIjkGbHuOmUl"
      }
    },
    {
      "cell_type": "code",
      "source": [
        "clf_age_based = DecisionTreeClassifier()\n",
        "clf_age_based.fit(X_train, y_train)"
      ],
      "metadata": {
        "colab": {
          "base_uri": "https://localhost:8080/",
          "height": 75
        },
        "id": "W30SHfoUOlu0",
        "outputId": "ca603675-c991-47ed-b7a7-c3741ada139d"
      },
      "execution_count": 61,
      "outputs": [
        {
          "output_type": "execute_result",
          "data": {
            "text/plain": [
              "DecisionTreeClassifier()"
            ],
            "text/html": [
              "<style>#sk-container-id-1 {color: black;background-color: white;}#sk-container-id-1 pre{padding: 0;}#sk-container-id-1 div.sk-toggleable {background-color: white;}#sk-container-id-1 label.sk-toggleable__label {cursor: pointer;display: block;width: 100%;margin-bottom: 0;padding: 0.3em;box-sizing: border-box;text-align: center;}#sk-container-id-1 label.sk-toggleable__label-arrow:before {content: \"▸\";float: left;margin-right: 0.25em;color: #696969;}#sk-container-id-1 label.sk-toggleable__label-arrow:hover:before {color: black;}#sk-container-id-1 div.sk-estimator:hover label.sk-toggleable__label-arrow:before {color: black;}#sk-container-id-1 div.sk-toggleable__content {max-height: 0;max-width: 0;overflow: hidden;text-align: left;background-color: #f0f8ff;}#sk-container-id-1 div.sk-toggleable__content pre {margin: 0.2em;color: black;border-radius: 0.25em;background-color: #f0f8ff;}#sk-container-id-1 input.sk-toggleable__control:checked~div.sk-toggleable__content {max-height: 200px;max-width: 100%;overflow: auto;}#sk-container-id-1 input.sk-toggleable__control:checked~label.sk-toggleable__label-arrow:before {content: \"▾\";}#sk-container-id-1 div.sk-estimator input.sk-toggleable__control:checked~label.sk-toggleable__label {background-color: #d4ebff;}#sk-container-id-1 div.sk-label input.sk-toggleable__control:checked~label.sk-toggleable__label {background-color: #d4ebff;}#sk-container-id-1 input.sk-hidden--visually {border: 0;clip: rect(1px 1px 1px 1px);clip: rect(1px, 1px, 1px, 1px);height: 1px;margin: -1px;overflow: hidden;padding: 0;position: absolute;width: 1px;}#sk-container-id-1 div.sk-estimator {font-family: monospace;background-color: #f0f8ff;border: 1px dotted black;border-radius: 0.25em;box-sizing: border-box;margin-bottom: 0.5em;}#sk-container-id-1 div.sk-estimator:hover {background-color: #d4ebff;}#sk-container-id-1 div.sk-parallel-item::after {content: \"\";width: 100%;border-bottom: 1px solid gray;flex-grow: 1;}#sk-container-id-1 div.sk-label:hover label.sk-toggleable__label {background-color: #d4ebff;}#sk-container-id-1 div.sk-serial::before {content: \"\";position: absolute;border-left: 1px solid gray;box-sizing: border-box;top: 0;bottom: 0;left: 50%;z-index: 0;}#sk-container-id-1 div.sk-serial {display: flex;flex-direction: column;align-items: center;background-color: white;padding-right: 0.2em;padding-left: 0.2em;position: relative;}#sk-container-id-1 div.sk-item {position: relative;z-index: 1;}#sk-container-id-1 div.sk-parallel {display: flex;align-items: stretch;justify-content: center;background-color: white;position: relative;}#sk-container-id-1 div.sk-item::before, #sk-container-id-1 div.sk-parallel-item::before {content: \"\";position: absolute;border-left: 1px solid gray;box-sizing: border-box;top: 0;bottom: 0;left: 50%;z-index: -1;}#sk-container-id-1 div.sk-parallel-item {display: flex;flex-direction: column;z-index: 1;position: relative;background-color: white;}#sk-container-id-1 div.sk-parallel-item:first-child::after {align-self: flex-end;width: 50%;}#sk-container-id-1 div.sk-parallel-item:last-child::after {align-self: flex-start;width: 50%;}#sk-container-id-1 div.sk-parallel-item:only-child::after {width: 0;}#sk-container-id-1 div.sk-dashed-wrapped {border: 1px dashed gray;margin: 0 0.4em 0.5em 0.4em;box-sizing: border-box;padding-bottom: 0.4em;background-color: white;}#sk-container-id-1 div.sk-label label {font-family: monospace;font-weight: bold;display: inline-block;line-height: 1.2em;}#sk-container-id-1 div.sk-label-container {text-align: center;}#sk-container-id-1 div.sk-container {/* jupyter's `normalize.less` sets `[hidden] { display: none; }` but bootstrap.min.css set `[hidden] { display: none !important; }` so we also need the `!important` here to be able to override the default hidden behavior on the sphinx rendered scikit-learn.org. See: https://github.com/scikit-learn/scikit-learn/issues/21755 */display: inline-block !important;position: relative;}#sk-container-id-1 div.sk-text-repr-fallback {display: none;}</style><div id=\"sk-container-id-1\" class=\"sk-top-container\"><div class=\"sk-text-repr-fallback\"><pre>DecisionTreeClassifier()</pre><b>In a Jupyter environment, please rerun this cell to show the HTML representation or trust the notebook. <br />On GitHub, the HTML representation is unable to render, please try loading this page with nbviewer.org.</b></div><div class=\"sk-container\" hidden><div class=\"sk-item\"><div class=\"sk-estimator sk-toggleable\"><input class=\"sk-toggleable__control sk-hidden--visually\" id=\"sk-estimator-id-1\" type=\"checkbox\" checked><label for=\"sk-estimator-id-1\" class=\"sk-toggleable__label sk-toggleable__label-arrow\">DecisionTreeClassifier</label><div class=\"sk-toggleable__content\"><pre>DecisionTreeClassifier()</pre></div></div></div></div></div>"
            ]
          },
          "metadata": {},
          "execution_count": 61
        }
      ]
    },
    {
      "cell_type": "markdown",
      "source": [
        "**-- Predict the age group based on test datasets:**"
      ],
      "metadata": {
        "id": "S7y2VWX9PGnR"
      }
    },
    {
      "cell_type": "code",
      "source": [
        "y_pred = clf_age_based.predict(X_test)"
      ],
      "metadata": {
        "id": "VNnSJWo9PAYJ"
      },
      "execution_count": 63,
      "outputs": []
    },
    {
      "cell_type": "markdown",
      "source": [
        "-- Accuracy rate of the DecisionTree Classifier:"
      ],
      "metadata": {
        "id": "unua4o3OPSJX"
      }
    },
    {
      "cell_type": "code",
      "source": [
        "accuracy = accuracy_score(y_test, y_pred)\n",
        "print('Accuracy:', accuracy)"
      ],
      "metadata": {
        "colab": {
          "base_uri": "https://localhost:8080/"
        },
        "id": "Us9Xk3HBPRoS",
        "outputId": "79263b20-0f0b-4563-91b8-b696272d300c"
      },
      "execution_count": 64,
      "outputs": [
        {
          "output_type": "stream",
          "name": "stdout",
          "text": [
            "Accuracy: 1.0\n"
          ]
        }
      ]
    },
    {
      "cell_type": "markdown",
      "source": [
        "### **Sample testing on trained datasets:**"
      ],
      "metadata": {
        "id": "huhsOOc-PdM1"
      }
    },
    {
      "cell_type": "code",
      "source": [
        "# predict the age group of user\n",
        "\n",
        "input_values = np.array([[4]])\n",
        "\n",
        "predicted_age_group = clf_age_based.predict(input_values)\n",
        "\n",
        "print('Predicted age group:', predicted_age_group)"
      ],
      "metadata": {
        "colab": {
          "base_uri": "https://localhost:8080/"
        },
        "id": "bq-hpa6XTSRd",
        "outputId": "1f4a4c66-228d-498e-dd3a-efd7eb69fdfa"
      },
      "execution_count": 68,
      "outputs": [
        {
          "output_type": "stream",
          "name": "stdout",
          "text": [
            "Predicted age group: ['Children']\n"
          ]
        },
        {
          "output_type": "stream",
          "name": "stderr",
          "text": [
            "/usr/local/lib/python3.10/dist-packages/sklearn/base.py:439: UserWarning: X does not have valid feature names, but DecisionTreeClassifier was fitted with feature names\n",
            "  warnings.warn(\n"
          ]
        }
      ]
    },
    {
      "cell_type": "code",
      "source": [
        "# predict the age group of user\n",
        "\n",
        "input_values = np.array([[14]])\n",
        "\n",
        "predicted_age_group = clf_age_based.predict(input_values)\n",
        "\n",
        "print('Predicted age group:', predicted_age_group)"
      ],
      "metadata": {
        "colab": {
          "base_uri": "https://localhost:8080/"
        },
        "id": "BxkZ1RXGTtKq",
        "outputId": "cf743b48-840e-48f1-994e-b30ede45ec84"
      },
      "execution_count": 66,
      "outputs": [
        {
          "output_type": "stream",
          "name": "stdout",
          "text": [
            "Predicted age group: ['Teen']\n"
          ]
        },
        {
          "output_type": "stream",
          "name": "stderr",
          "text": [
            "/usr/local/lib/python3.10/dist-packages/sklearn/base.py:439: UserWarning: X does not have valid feature names, but DecisionTreeClassifier was fitted with feature names\n",
            "  warnings.warn(\n"
          ]
        }
      ]
    },
    {
      "cell_type": "code",
      "source": [
        "# predict the age group of user\n",
        "\n",
        "input_values = np.array([[32]])\n",
        "\n",
        "predicted_age_group = clf_age_based.predict(input_values)\n",
        "\n",
        "print('Predicted age group:', predicted_age_group)"
      ],
      "metadata": {
        "colab": {
          "base_uri": "https://localhost:8080/"
        },
        "id": "UvLOiTQcPp1S",
        "outputId": "36890fec-87d3-4133-b6e2-714dcbc26867"
      },
      "execution_count": 67,
      "outputs": [
        {
          "output_type": "stream",
          "name": "stdout",
          "text": [
            "Predicted age group: ['Adult']\n"
          ]
        },
        {
          "output_type": "stream",
          "name": "stderr",
          "text": [
            "/usr/local/lib/python3.10/dist-packages/sklearn/base.py:439: UserWarning: X does not have valid feature names, but DecisionTreeClassifier was fitted with feature names\n",
            "  warnings.warn(\n"
          ]
        }
      ]
    },
    {
      "cell_type": "markdown",
      "source": [
        "## **Part-2:  Recommend outfits to user based on the predicted age group.**"
      ],
      "metadata": {
        "id": "hvOuHoeXP1h2"
      }
    },
    {
      "cell_type": "markdown",
      "source": [
        "**General notion of outfits specific to age groups are:**\n",
        "\n",
        "\n",
        "**-- Children:**    *t-shirt, jeans, shorts, casuals, smock dresses, skirts*\n",
        "\n",
        "**-- Teen:**    *v-neck tshirts, graphic tees, skinny jeans, sneakers, mini dresses, short skirts, rompers*\n",
        "\n",
        "**-- Adult:**    *slacks, heels, skirts, wrap dresses, chic, jumpsuits, midi dresses, sandals, bodycon*\n",
        "\n",
        "\n"
      ],
      "metadata": {
        "id": "zLw3-rs5lhD8"
      }
    },
    {
      "cell_type": "markdown",
      "source": [
        "**List of DressTypes appropriate for determined AgeGroup:**\n",
        "\n",
        "*-- 'Ruffle dress', 'Tunics', 'V-neck tops', 'Rompers', 'Pencil cut skirts', 'Tank tops', tailored blazers', 'high-waisted pants', 'bootcut jeans', 'peplum tops'*\n",
        "\n",
        "*-- 'Wrap dresses', 'fit and flare dresses', 'Bodycon dresses', 'Shift dresses', 'A-line dresses', 'Midi dresses', 'Pencil skirts', 'Crop tops', 'high-waisted jeans', 'flared pants', 'wrap dresses', 'fit and flare dresses'*"
      ],
      "metadata": {
        "id": "ap6X6TjdRCsv"
      }
    },
    {
      "cell_type": "markdown",
      "source": [
        "**The keywords to be matched for the specific AgeGroup:**\n",
        "\n",
        "**-- Children:**   *t-shirt, jeans, shorts, smock dress, ruffle dress, tunics, skirts, jumpers*\n",
        "\n",
        "**-- Teen:**   *skinny jeans, graphic tees, V-neck, sneakers, dresses, Off-shoulder*\n",
        "\n",
        "**-- Adult:**   *chic, Off-shoulder, Bodycon, pencil skirt, blazers, blouses, jumpsuits, tops, sandals, mini skirts*\n"
      ],
      "metadata": {
        "id": "MYUUjorVSRsB"
      }
    },
    {
      "cell_type": "markdown",
      "source": [
        "### **Import the sample dataset for outfit recommendation:**"
      ],
      "metadata": {
        "id": "YLO6htD5T-Wz"
      }
    },
    {
      "cell_type": "code",
      "source": [
        "import pandas as pd\n",
        "\n",
        "age_groups_dict = {\n",
        "    \"Children\": [\"t-shirt\", \"jeans\", \"shorts\", \"smock dress\", \"boys\", \"girls\", \"child\"],\n",
        "    \"Teens\": [\"skinny jeans\", \"graphic tees\", \"V-neck\", \"sneakers\", \"dresses\", \"Off-shoulder\"],\n",
        "    \"Adult\": [\"chic\", \"Off-shoulder\", \"Bodycon\", \"pencil skirt\", \"blazers\", \"blouses\", \"jumpsuits\", \"tops\", \"sandals\", \"mini skirts\"]\n",
        "}\n",
        "\n",
        "\n",
        "def map_ageGroup_to_dressType(agegrp):\n",
        "    for key, value in age_groups_dict.items():\n",
        "        if agegrp == key:\n",
        "            return value\n",
        "    return \"Unknown\"\n",
        "\n",
        "\n",
        "df[\"Dresstype\"] = df[\"AgeGroups\"].apply(map_ageGroup_to_dressType)\n",
        "\n",
        "print(df)\n",
        "df.head()"
      ],
      "metadata": {
        "colab": {
          "base_uri": "https://localhost:8080/",
          "height": 449
        },
        "id": "JlP6THelUNcV",
        "outputId": "50ec275f-543c-468c-803b-73318f0386bd"
      },
      "execution_count": 69,
      "outputs": [
        {
          "output_type": "stream",
          "name": "stdout",
          "text": [
            "     Age AgeGroups                                          Dresstype\n",
            "0     30     Adult  [chic, Off-shoulder, Bodycon, pencil skirt, bl...\n",
            "1     28     Adult  [chic, Off-shoulder, Bodycon, pencil skirt, bl...\n",
            "2     27     Adult  [chic, Off-shoulder, Bodycon, pencil skirt, bl...\n",
            "3     29     Adult  [chic, Off-shoulder, Bodycon, pencil skirt, bl...\n",
            "4     28     Adult  [chic, Off-shoulder, Bodycon, pencil skirt, bl...\n",
            "..   ...       ...                                                ...\n",
            "711   13      Teen                                            Unknown\n",
            "712   10  Children  [t-shirt, jeans, shorts, smock dress, boys, gi...\n",
            "713    4  Children  [t-shirt, jeans, shorts, smock dress, boys, gi...\n",
            "714   13      Teen                                            Unknown\n",
            "715    4  Children  [t-shirt, jeans, shorts, smock dress, boys, gi...\n",
            "\n",
            "[716 rows x 3 columns]\n"
          ]
        },
        {
          "output_type": "execute_result",
          "data": {
            "text/plain": [
              "   Age AgeGroups                                          Dresstype\n",
              "0   30     Adult  [chic, Off-shoulder, Bodycon, pencil skirt, bl...\n",
              "1   28     Adult  [chic, Off-shoulder, Bodycon, pencil skirt, bl...\n",
              "2   27     Adult  [chic, Off-shoulder, Bodycon, pencil skirt, bl...\n",
              "3   29     Adult  [chic, Off-shoulder, Bodycon, pencil skirt, bl...\n",
              "4   28     Adult  [chic, Off-shoulder, Bodycon, pencil skirt, bl..."
            ],
            "text/html": [
              "\n",
              "  <div id=\"df-5d507651-7a9f-47d5-9fac-d0ac81b69120\">\n",
              "    <div class=\"colab-df-container\">\n",
              "      <div>\n",
              "<style scoped>\n",
              "    .dataframe tbody tr th:only-of-type {\n",
              "        vertical-align: middle;\n",
              "    }\n",
              "\n",
              "    .dataframe tbody tr th {\n",
              "        vertical-align: top;\n",
              "    }\n",
              "\n",
              "    .dataframe thead th {\n",
              "        text-align: right;\n",
              "    }\n",
              "</style>\n",
              "<table border=\"1\" class=\"dataframe\">\n",
              "  <thead>\n",
              "    <tr style=\"text-align: right;\">\n",
              "      <th></th>\n",
              "      <th>Age</th>\n",
              "      <th>AgeGroups</th>\n",
              "      <th>Dresstype</th>\n",
              "    </tr>\n",
              "  </thead>\n",
              "  <tbody>\n",
              "    <tr>\n",
              "      <th>0</th>\n",
              "      <td>30</td>\n",
              "      <td>Adult</td>\n",
              "      <td>[chic, Off-shoulder, Bodycon, pencil skirt, bl...</td>\n",
              "    </tr>\n",
              "    <tr>\n",
              "      <th>1</th>\n",
              "      <td>28</td>\n",
              "      <td>Adult</td>\n",
              "      <td>[chic, Off-shoulder, Bodycon, pencil skirt, bl...</td>\n",
              "    </tr>\n",
              "    <tr>\n",
              "      <th>2</th>\n",
              "      <td>27</td>\n",
              "      <td>Adult</td>\n",
              "      <td>[chic, Off-shoulder, Bodycon, pencil skirt, bl...</td>\n",
              "    </tr>\n",
              "    <tr>\n",
              "      <th>3</th>\n",
              "      <td>29</td>\n",
              "      <td>Adult</td>\n",
              "      <td>[chic, Off-shoulder, Bodycon, pencil skirt, bl...</td>\n",
              "    </tr>\n",
              "    <tr>\n",
              "      <th>4</th>\n",
              "      <td>28</td>\n",
              "      <td>Adult</td>\n",
              "      <td>[chic, Off-shoulder, Bodycon, pencil skirt, bl...</td>\n",
              "    </tr>\n",
              "  </tbody>\n",
              "</table>\n",
              "</div>\n",
              "      <button class=\"colab-df-convert\" onclick=\"convertToInteractive('df-5d507651-7a9f-47d5-9fac-d0ac81b69120')\"\n",
              "              title=\"Convert this dataframe to an interactive table.\"\n",
              "              style=\"display:none;\">\n",
              "        \n",
              "  <svg xmlns=\"http://www.w3.org/2000/svg\" height=\"24px\"viewBox=\"0 0 24 24\"\n",
              "       width=\"24px\">\n",
              "    <path d=\"M0 0h24v24H0V0z\" fill=\"none\"/>\n",
              "    <path d=\"M18.56 5.44l.94 2.06.94-2.06 2.06-.94-2.06-.94-.94-2.06-.94 2.06-2.06.94zm-11 1L8.5 8.5l.94-2.06 2.06-.94-2.06-.94L8.5 2.5l-.94 2.06-2.06.94zm10 10l.94 2.06.94-2.06 2.06-.94-2.06-.94-.94-2.06-.94 2.06-2.06.94z\"/><path d=\"M17.41 7.96l-1.37-1.37c-.4-.4-.92-.59-1.43-.59-.52 0-1.04.2-1.43.59L10.3 9.45l-7.72 7.72c-.78.78-.78 2.05 0 2.83L4 21.41c.39.39.9.59 1.41.59.51 0 1.02-.2 1.41-.59l7.78-7.78 2.81-2.81c.8-.78.8-2.07 0-2.86zM5.41 20L4 18.59l7.72-7.72 1.47 1.35L5.41 20z\"/>\n",
              "  </svg>\n",
              "      </button>\n",
              "      \n",
              "  <style>\n",
              "    .colab-df-container {\n",
              "      display:flex;\n",
              "      flex-wrap:wrap;\n",
              "      gap: 12px;\n",
              "    }\n",
              "\n",
              "    .colab-df-convert {\n",
              "      background-color: #E8F0FE;\n",
              "      border: none;\n",
              "      border-radius: 50%;\n",
              "      cursor: pointer;\n",
              "      display: none;\n",
              "      fill: #1967D2;\n",
              "      height: 32px;\n",
              "      padding: 0 0 0 0;\n",
              "      width: 32px;\n",
              "    }\n",
              "\n",
              "    .colab-df-convert:hover {\n",
              "      background-color: #E2EBFA;\n",
              "      box-shadow: 0px 1px 2px rgba(60, 64, 67, 0.3), 0px 1px 3px 1px rgba(60, 64, 67, 0.15);\n",
              "      fill: #174EA6;\n",
              "    }\n",
              "\n",
              "    [theme=dark] .colab-df-convert {\n",
              "      background-color: #3B4455;\n",
              "      fill: #D2E3FC;\n",
              "    }\n",
              "\n",
              "    [theme=dark] .colab-df-convert:hover {\n",
              "      background-color: #434B5C;\n",
              "      box-shadow: 0px 1px 3px 1px rgba(0, 0, 0, 0.15);\n",
              "      filter: drop-shadow(0px 1px 2px rgba(0, 0, 0, 0.3));\n",
              "      fill: #FFFFFF;\n",
              "    }\n",
              "  </style>\n",
              "\n",
              "      <script>\n",
              "        const buttonEl =\n",
              "          document.querySelector('#df-5d507651-7a9f-47d5-9fac-d0ac81b69120 button.colab-df-convert');\n",
              "        buttonEl.style.display =\n",
              "          google.colab.kernel.accessAllowed ? 'block' : 'none';\n",
              "\n",
              "        async function convertToInteractive(key) {\n",
              "          const element = document.querySelector('#df-5d507651-7a9f-47d5-9fac-d0ac81b69120');\n",
              "          const dataTable =\n",
              "            await google.colab.kernel.invokeFunction('convertToInteractive',\n",
              "                                                     [key], {});\n",
              "          if (!dataTable) return;\n",
              "\n",
              "          const docLinkHtml = 'Like what you see? Visit the ' +\n",
              "            '<a target=\"_blank\" href=https://colab.research.google.com/notebooks/data_table.ipynb>data table notebook</a>'\n",
              "            + ' to learn more about interactive tables.';\n",
              "          element.innerHTML = '';\n",
              "          dataTable['output_type'] = 'display_data';\n",
              "          await google.colab.output.renderOutput(dataTable, element);\n",
              "          const docLink = document.createElement('div');\n",
              "          docLink.innerHTML = docLinkHtml;\n",
              "          element.appendChild(docLink);\n",
              "        }\n",
              "      </script>\n",
              "    </div>\n",
              "  </div>\n",
              "  "
            ]
          },
          "metadata": {},
          "execution_count": 69
        }
      ]
    },
    {
      "cell_type": "code",
      "source": [
        "path2 = 'https://drive.google.com/uc?id=1ypzPWMt5FqtUYtS0kN_OpXjtYKXZxno9'\n",
        "num = pd.read_csv(path2, on_bad_lines='skip')\n",
        "df1 = num.loc[:, ['title', 'product_type', 'product_details', 'ideal_for', 'type', 'images', 'link', 'brand', 'actual_color', 'specifications']]\n",
        "\n",
        "df1.dropna(inplace=True)\n",
        "df1.head()"
      ],
      "metadata": {
        "colab": {
          "base_uri": "https://localhost:8080/",
          "height": 774
        },
        "id": "QssrcxH_HIhp",
        "outputId": "381c2ab4-e106-4ec6-b1fd-6299301bf09b"
      },
      "execution_count": 79,
      "outputs": [
        {
          "output_type": "execute_result",
          "data": {
            "text/plain": [
              "                                                title        product_type  \\\n",
              "0                         IMARA Women Black Solid Top                 Top   \n",
              "5          Wintage Men Beige Solid Kurta with Pyjamas  Kurta with Pyjamas   \n",
              "9   SALWAR STUDIO Boys Orange & White Printed Kurt...  Kurta with Pyjamas   \n",
              "10  Clora Creation Women Navy Blue Wide Leg Printe...    Printed Palazzos   \n",
              "11    Libas Women Blue & White Striped Straight Kurta      Straight Kurta   \n",
              "\n",
              "                                      product_details ideal_for  \\\n",
              "0   Black solid woven regular top,has a V-neck, th...     Women   \n",
              "5   Beige solid kurta with pyjamas Beige straight ...       Men   \n",
              "9   Orange and white printed kurta with pyjamas Or...      Boys   \n",
              "10  A pair of navy blue printed woven wide leg pal...     Women   \n",
              "11  Blue and white striped straight kurta, has a s...     Women   \n",
              "\n",
              "                                                 type  \\\n",
              "0             Clothing/Women/Tops/IMARA/More by IMARA   \n",
              "5     Clothing/Men/Kurta Sets/Wintage/More by Wintage   \n",
              "9   Clothing/Boys/Kurta Sets/SALWAR STUDIO/More by...   \n",
              "10  Clothing/Women/Palazzos/Clora Creation/More by...   \n",
              "11          Clothing/Women/Kurtas/Libas/More by Libas   \n",
              "\n",
              "                                               images  \\\n",
              "0   http://assets.myntassets.com/v1/assets/images/...   \n",
              "5   http://assets.myntassets.com/v1/assets/images/...   \n",
              "9   http://assets.myntassets.com/v1/assets/images/...   \n",
              "10  http://assets.myntassets.com/v1/assets/images/...   \n",
              "11  http://assets.myntassets.com/v1/assets/images/...   \n",
              "\n",
              "                                                 link           brand  \\\n",
              "0   https://www.myntra.com/tops/imara/imara-women-...           IMARA   \n",
              "5   https://www.myntra.com/kurta-sets/wintage/wint...         Wintage   \n",
              "9   https://www.myntra.com/kurta-sets/salwar-studi...   SALWAR STUDIO   \n",
              "10  https://www.myntra.com/palazzos/clora-creation...  Clora Creation   \n",
              "11  https://www.myntra.com/kurtas/libas/libas-wome...           Libas   \n",
              "\n",
              "      actual_color                                     specifications  \n",
              "0            Black  Transparency : Opaque | Sleeve Styling : Bell ...  \n",
              "5            Beige  Sleeve Styling : Regular Sleeves | Occasion : ...  \n",
              "9   White | Orange  Occasion : Festive | Number of Components : 2 ...  \n",
              "10     Blue | Navy  Transparency : Opaque | Closure : Slip-On | Oc...  \n",
              "11    Blue | White  Shape : Straight | Sleeve Styling : Regular Sl...  "
            ],
            "text/html": [
              "\n",
              "  <div id=\"df-a1ecbac2-80da-416b-97c6-2e2161a6e3e0\">\n",
              "    <div class=\"colab-df-container\">\n",
              "      <div>\n",
              "<style scoped>\n",
              "    .dataframe tbody tr th:only-of-type {\n",
              "        vertical-align: middle;\n",
              "    }\n",
              "\n",
              "    .dataframe tbody tr th {\n",
              "        vertical-align: top;\n",
              "    }\n",
              "\n",
              "    .dataframe thead th {\n",
              "        text-align: right;\n",
              "    }\n",
              "</style>\n",
              "<table border=\"1\" class=\"dataframe\">\n",
              "  <thead>\n",
              "    <tr style=\"text-align: right;\">\n",
              "      <th></th>\n",
              "      <th>title</th>\n",
              "      <th>product_type</th>\n",
              "      <th>product_details</th>\n",
              "      <th>ideal_for</th>\n",
              "      <th>type</th>\n",
              "      <th>images</th>\n",
              "      <th>link</th>\n",
              "      <th>brand</th>\n",
              "      <th>actual_color</th>\n",
              "      <th>specifications</th>\n",
              "    </tr>\n",
              "  </thead>\n",
              "  <tbody>\n",
              "    <tr>\n",
              "      <th>0</th>\n",
              "      <td>IMARA Women Black Solid Top</td>\n",
              "      <td>Top</td>\n",
              "      <td>Black solid woven regular top,has a V-neck, th...</td>\n",
              "      <td>Women</td>\n",
              "      <td>Clothing/Women/Tops/IMARA/More by IMARA</td>\n",
              "      <td>http://assets.myntassets.com/v1/assets/images/...</td>\n",
              "      <td>https://www.myntra.com/tops/imara/imara-women-...</td>\n",
              "      <td>IMARA</td>\n",
              "      <td>Black</td>\n",
              "      <td>Transparency : Opaque | Sleeve Styling : Bell ...</td>\n",
              "    </tr>\n",
              "    <tr>\n",
              "      <th>5</th>\n",
              "      <td>Wintage Men Beige Solid Kurta with Pyjamas</td>\n",
              "      <td>Kurta with Pyjamas</td>\n",
              "      <td>Beige solid kurta with pyjamas Beige straight ...</td>\n",
              "      <td>Men</td>\n",
              "      <td>Clothing/Men/Kurta Sets/Wintage/More by Wintage</td>\n",
              "      <td>http://assets.myntassets.com/v1/assets/images/...</td>\n",
              "      <td>https://www.myntra.com/kurta-sets/wintage/wint...</td>\n",
              "      <td>Wintage</td>\n",
              "      <td>Beige</td>\n",
              "      <td>Sleeve Styling : Regular Sleeves | Occasion : ...</td>\n",
              "    </tr>\n",
              "    <tr>\n",
              "      <th>9</th>\n",
              "      <td>SALWAR STUDIO Boys Orange &amp; White Printed Kurt...</td>\n",
              "      <td>Kurta with Pyjamas</td>\n",
              "      <td>Orange and white printed kurta with pyjamas Or...</td>\n",
              "      <td>Boys</td>\n",
              "      <td>Clothing/Boys/Kurta Sets/SALWAR STUDIO/More by...</td>\n",
              "      <td>http://assets.myntassets.com/v1/assets/images/...</td>\n",
              "      <td>https://www.myntra.com/kurta-sets/salwar-studi...</td>\n",
              "      <td>SALWAR STUDIO</td>\n",
              "      <td>White | Orange</td>\n",
              "      <td>Occasion : Festive | Number of Components : 2 ...</td>\n",
              "    </tr>\n",
              "    <tr>\n",
              "      <th>10</th>\n",
              "      <td>Clora Creation Women Navy Blue Wide Leg Printe...</td>\n",
              "      <td>Printed Palazzos</td>\n",
              "      <td>A pair of navy blue printed woven wide leg pal...</td>\n",
              "      <td>Women</td>\n",
              "      <td>Clothing/Women/Palazzos/Clora Creation/More by...</td>\n",
              "      <td>http://assets.myntassets.com/v1/assets/images/...</td>\n",
              "      <td>https://www.myntra.com/palazzos/clora-creation...</td>\n",
              "      <td>Clora Creation</td>\n",
              "      <td>Blue | Navy</td>\n",
              "      <td>Transparency : Opaque | Closure : Slip-On | Oc...</td>\n",
              "    </tr>\n",
              "    <tr>\n",
              "      <th>11</th>\n",
              "      <td>Libas Women Blue &amp; White Striped Straight Kurta</td>\n",
              "      <td>Straight Kurta</td>\n",
              "      <td>Blue and white striped straight kurta, has a s...</td>\n",
              "      <td>Women</td>\n",
              "      <td>Clothing/Women/Kurtas/Libas/More by Libas</td>\n",
              "      <td>http://assets.myntassets.com/v1/assets/images/...</td>\n",
              "      <td>https://www.myntra.com/kurtas/libas/libas-wome...</td>\n",
              "      <td>Libas</td>\n",
              "      <td>Blue | White</td>\n",
              "      <td>Shape : Straight | Sleeve Styling : Regular Sl...</td>\n",
              "    </tr>\n",
              "  </tbody>\n",
              "</table>\n",
              "</div>\n",
              "      <button class=\"colab-df-convert\" onclick=\"convertToInteractive('df-a1ecbac2-80da-416b-97c6-2e2161a6e3e0')\"\n",
              "              title=\"Convert this dataframe to an interactive table.\"\n",
              "              style=\"display:none;\">\n",
              "        \n",
              "  <svg xmlns=\"http://www.w3.org/2000/svg\" height=\"24px\"viewBox=\"0 0 24 24\"\n",
              "       width=\"24px\">\n",
              "    <path d=\"M0 0h24v24H0V0z\" fill=\"none\"/>\n",
              "    <path d=\"M18.56 5.44l.94 2.06.94-2.06 2.06-.94-2.06-.94-.94-2.06-.94 2.06-2.06.94zm-11 1L8.5 8.5l.94-2.06 2.06-.94-2.06-.94L8.5 2.5l-.94 2.06-2.06.94zm10 10l.94 2.06.94-2.06 2.06-.94-2.06-.94-.94-2.06-.94 2.06-2.06.94z\"/><path d=\"M17.41 7.96l-1.37-1.37c-.4-.4-.92-.59-1.43-.59-.52 0-1.04.2-1.43.59L10.3 9.45l-7.72 7.72c-.78.78-.78 2.05 0 2.83L4 21.41c.39.39.9.59 1.41.59.51 0 1.02-.2 1.41-.59l7.78-7.78 2.81-2.81c.8-.78.8-2.07 0-2.86zM5.41 20L4 18.59l7.72-7.72 1.47 1.35L5.41 20z\"/>\n",
              "  </svg>\n",
              "      </button>\n",
              "      \n",
              "  <style>\n",
              "    .colab-df-container {\n",
              "      display:flex;\n",
              "      flex-wrap:wrap;\n",
              "      gap: 12px;\n",
              "    }\n",
              "\n",
              "    .colab-df-convert {\n",
              "      background-color: #E8F0FE;\n",
              "      border: none;\n",
              "      border-radius: 50%;\n",
              "      cursor: pointer;\n",
              "      display: none;\n",
              "      fill: #1967D2;\n",
              "      height: 32px;\n",
              "      padding: 0 0 0 0;\n",
              "      width: 32px;\n",
              "    }\n",
              "\n",
              "    .colab-df-convert:hover {\n",
              "      background-color: #E2EBFA;\n",
              "      box-shadow: 0px 1px 2px rgba(60, 64, 67, 0.3), 0px 1px 3px 1px rgba(60, 64, 67, 0.15);\n",
              "      fill: #174EA6;\n",
              "    }\n",
              "\n",
              "    [theme=dark] .colab-df-convert {\n",
              "      background-color: #3B4455;\n",
              "      fill: #D2E3FC;\n",
              "    }\n",
              "\n",
              "    [theme=dark] .colab-df-convert:hover {\n",
              "      background-color: #434B5C;\n",
              "      box-shadow: 0px 1px 3px 1px rgba(0, 0, 0, 0.15);\n",
              "      filter: drop-shadow(0px 1px 2px rgba(0, 0, 0, 0.3));\n",
              "      fill: #FFFFFF;\n",
              "    }\n",
              "  </style>\n",
              "\n",
              "      <script>\n",
              "        const buttonEl =\n",
              "          document.querySelector('#df-a1ecbac2-80da-416b-97c6-2e2161a6e3e0 button.colab-df-convert');\n",
              "        buttonEl.style.display =\n",
              "          google.colab.kernel.accessAllowed ? 'block' : 'none';\n",
              "\n",
              "        async function convertToInteractive(key) {\n",
              "          const element = document.querySelector('#df-a1ecbac2-80da-416b-97c6-2e2161a6e3e0');\n",
              "          const dataTable =\n",
              "            await google.colab.kernel.invokeFunction('convertToInteractive',\n",
              "                                                     [key], {});\n",
              "          if (!dataTable) return;\n",
              "\n",
              "          const docLinkHtml = 'Like what you see? Visit the ' +\n",
              "            '<a target=\"_blank\" href=https://colab.research.google.com/notebooks/data_table.ipynb>data table notebook</a>'\n",
              "            + ' to learn more about interactive tables.';\n",
              "          element.innerHTML = '';\n",
              "          dataTable['output_type'] = 'display_data';\n",
              "          await google.colab.output.renderOutput(dataTable, element);\n",
              "          const docLink = document.createElement('div');\n",
              "          docLink.innerHTML = docLinkHtml;\n",
              "          element.appendChild(docLink);\n",
              "        }\n",
              "      </script>\n",
              "    </div>\n",
              "  </div>\n",
              "  "
            ]
          },
          "metadata": {},
          "execution_count": 79
        }
      ]
    },
    {
      "cell_type": "code",
      "source": [
        "num_rows = df1.shape[0]\n",
        "print('Number of rows:', num_rows)"
      ],
      "metadata": {
        "colab": {
          "base_uri": "https://localhost:8080/"
        },
        "id": "9i84wo1DUNTa",
        "outputId": "aea2c106-72b0-4873-c58d-e9a4698f014b"
      },
      "execution_count": 80,
      "outputs": [
        {
          "output_type": "stream",
          "name": "stdout",
          "text": [
            "Number of rows: 7684\n"
          ]
        }
      ]
    },
    {
      "cell_type": "markdown",
      "source": [
        "### **RegEx Pattern Matching functionality:**"
      ],
      "metadata": {
        "id": "nQQciNZ2a74r"
      }
    },
    {
      "cell_type": "code",
      "source": [
        "import re\n",
        "\n",
        "keywords = ['t-shirt', 'jeans', 'shorts', 'smock dress', 'skinny jeans', 'graphic tees', 'V-neck', 'sneakers', 'dresses', 'Off-shoulder',\n",
        "            'chic', 'Off-shoulder', 'Bodycon', 'pencil skirt', 'blazers', 'blouse', 'jumpsuits', 'sandals', 'mini skirts', 'tops',\n",
        "            'classy', 'sophisticated', 'peplum', 'trousers', 'shirt dress', 'formal', 'boys', 'girls', 'child', 'kurta', 'dupatta']\n",
        "\n",
        "#Check for extra spaces and convert to lower case\n",
        "keywords = [kw.strip().lower() for kw in keywords]\n",
        "\n",
        "# Join the keywords with \"|\" operator for matching the pattern\n",
        "pattern = '|'.join(keywords)\n",
        "\n",
        "# Use str.contains() for regular expression patterns\n",
        "filtered_df = df1[df1['product_type'].str.contains(pattern, flags=re.IGNORECASE) | \n",
        "                 df1['product_details'].str.contains(pattern, flags=re.IGNORECASE) | \n",
        "                 df1['title'].str.contains(pattern, flags=re.IGNORECASE) | \n",
        "                 df1['ideal_for'].str.contains(pattern, flags=re.IGNORECASE) | \n",
        "                 df1['images'].str.contains(pattern, flags=re.IGNORECASE) |\n",
        "                 df1['type'].str.contains(pattern, flags=re.IGNORECASE)]\n",
        "filtered_df.head()"
      ],
      "metadata": {
        "colab": {
          "base_uri": "https://localhost:8080/",
          "height": 774
        },
        "id": "YttEJr_LwglH",
        "outputId": "edbc0451-c5cb-4e7a-cb34-5b7fecac4519"
      },
      "execution_count": 81,
      "outputs": [
        {
          "output_type": "execute_result",
          "data": {
            "text/plain": [
              "                                                title         product_type  \\\n",
              "0                         IMARA Women Black Solid Top                  Top   \n",
              "5          Wintage Men Beige Solid Kurta with Pyjamas   Kurta with Pyjamas   \n",
              "9   SALWAR STUDIO Boys Orange & White Printed Kurt...   Kurta with Pyjamas   \n",
              "11    Libas Women Blue & White Striped Straight Kurta       Straight Kurta   \n",
              "12  Libas Women Coffee Brown Solid Kurta with Pala...  Kurta with Palazzos   \n",
              "\n",
              "                                      product_details ideal_for  \\\n",
              "0   Black solid woven regular top,has a V-neck, th...     Women   \n",
              "5   Beige solid kurta with pyjamas Beige straight ...       Men   \n",
              "9   Orange and white printed kurta with pyjamas Or...      Boys   \n",
              "11  Blue and white striped straight kurta, has a s...     Women   \n",
              "12  Coffee brown solid kurta with palazzos Coffee ...     Women   \n",
              "\n",
              "                                                 type  \\\n",
              "0             Clothing/Women/Tops/IMARA/More by IMARA   \n",
              "5     Clothing/Men/Kurta Sets/Wintage/More by Wintage   \n",
              "9   Clothing/Boys/Kurta Sets/SALWAR STUDIO/More by...   \n",
              "11          Clothing/Women/Kurtas/Libas/More by Libas   \n",
              "12      Clothing/Women/Kurta Sets/Libas/More by Libas   \n",
              "\n",
              "                                               images  \\\n",
              "0   http://assets.myntassets.com/v1/assets/images/...   \n",
              "5   http://assets.myntassets.com/v1/assets/images/...   \n",
              "9   http://assets.myntassets.com/v1/assets/images/...   \n",
              "11  http://assets.myntassets.com/v1/assets/images/...   \n",
              "12  http://assets.myntassets.com/v1/assets/images/...   \n",
              "\n",
              "                                                 link          brand  \\\n",
              "0   https://www.myntra.com/tops/imara/imara-women-...          IMARA   \n",
              "5   https://www.myntra.com/kurta-sets/wintage/wint...        Wintage   \n",
              "9   https://www.myntra.com/kurta-sets/salwar-studi...  SALWAR STUDIO   \n",
              "11  https://www.myntra.com/kurtas/libas/libas-wome...          Libas   \n",
              "12  https://www.myntra.com/kurta-sets/libas/libas-...          Libas   \n",
              "\n",
              "            actual_color                                     specifications  \n",
              "0                  Black  Transparency : Opaque | Sleeve Styling : Bell ...  \n",
              "5                  Beige  Sleeve Styling : Regular Sleeves | Occasion : ...  \n",
              "9         White | Orange  Occasion : Festive | Number of Components : 2 ...  \n",
              "11          Blue | White  Shape : Straight | Sleeve Styling : Regular Sl...  \n",
              "12  Brown | Coffee Brown  Occasion : Daily | Number of Components : 2 | ...  "
            ],
            "text/html": [
              "\n",
              "  <div id=\"df-23cafe29-e046-44da-af62-0e2be5689751\">\n",
              "    <div class=\"colab-df-container\">\n",
              "      <div>\n",
              "<style scoped>\n",
              "    .dataframe tbody tr th:only-of-type {\n",
              "        vertical-align: middle;\n",
              "    }\n",
              "\n",
              "    .dataframe tbody tr th {\n",
              "        vertical-align: top;\n",
              "    }\n",
              "\n",
              "    .dataframe thead th {\n",
              "        text-align: right;\n",
              "    }\n",
              "</style>\n",
              "<table border=\"1\" class=\"dataframe\">\n",
              "  <thead>\n",
              "    <tr style=\"text-align: right;\">\n",
              "      <th></th>\n",
              "      <th>title</th>\n",
              "      <th>product_type</th>\n",
              "      <th>product_details</th>\n",
              "      <th>ideal_for</th>\n",
              "      <th>type</th>\n",
              "      <th>images</th>\n",
              "      <th>link</th>\n",
              "      <th>brand</th>\n",
              "      <th>actual_color</th>\n",
              "      <th>specifications</th>\n",
              "    </tr>\n",
              "  </thead>\n",
              "  <tbody>\n",
              "    <tr>\n",
              "      <th>0</th>\n",
              "      <td>IMARA Women Black Solid Top</td>\n",
              "      <td>Top</td>\n",
              "      <td>Black solid woven regular top,has a V-neck, th...</td>\n",
              "      <td>Women</td>\n",
              "      <td>Clothing/Women/Tops/IMARA/More by IMARA</td>\n",
              "      <td>http://assets.myntassets.com/v1/assets/images/...</td>\n",
              "      <td>https://www.myntra.com/tops/imara/imara-women-...</td>\n",
              "      <td>IMARA</td>\n",
              "      <td>Black</td>\n",
              "      <td>Transparency : Opaque | Sleeve Styling : Bell ...</td>\n",
              "    </tr>\n",
              "    <tr>\n",
              "      <th>5</th>\n",
              "      <td>Wintage Men Beige Solid Kurta with Pyjamas</td>\n",
              "      <td>Kurta with Pyjamas</td>\n",
              "      <td>Beige solid kurta with pyjamas Beige straight ...</td>\n",
              "      <td>Men</td>\n",
              "      <td>Clothing/Men/Kurta Sets/Wintage/More by Wintage</td>\n",
              "      <td>http://assets.myntassets.com/v1/assets/images/...</td>\n",
              "      <td>https://www.myntra.com/kurta-sets/wintage/wint...</td>\n",
              "      <td>Wintage</td>\n",
              "      <td>Beige</td>\n",
              "      <td>Sleeve Styling : Regular Sleeves | Occasion : ...</td>\n",
              "    </tr>\n",
              "    <tr>\n",
              "      <th>9</th>\n",
              "      <td>SALWAR STUDIO Boys Orange &amp; White Printed Kurt...</td>\n",
              "      <td>Kurta with Pyjamas</td>\n",
              "      <td>Orange and white printed kurta with pyjamas Or...</td>\n",
              "      <td>Boys</td>\n",
              "      <td>Clothing/Boys/Kurta Sets/SALWAR STUDIO/More by...</td>\n",
              "      <td>http://assets.myntassets.com/v1/assets/images/...</td>\n",
              "      <td>https://www.myntra.com/kurta-sets/salwar-studi...</td>\n",
              "      <td>SALWAR STUDIO</td>\n",
              "      <td>White | Orange</td>\n",
              "      <td>Occasion : Festive | Number of Components : 2 ...</td>\n",
              "    </tr>\n",
              "    <tr>\n",
              "      <th>11</th>\n",
              "      <td>Libas Women Blue &amp; White Striped Straight Kurta</td>\n",
              "      <td>Straight Kurta</td>\n",
              "      <td>Blue and white striped straight kurta, has a s...</td>\n",
              "      <td>Women</td>\n",
              "      <td>Clothing/Women/Kurtas/Libas/More by Libas</td>\n",
              "      <td>http://assets.myntassets.com/v1/assets/images/...</td>\n",
              "      <td>https://www.myntra.com/kurtas/libas/libas-wome...</td>\n",
              "      <td>Libas</td>\n",
              "      <td>Blue | White</td>\n",
              "      <td>Shape : Straight | Sleeve Styling : Regular Sl...</td>\n",
              "    </tr>\n",
              "    <tr>\n",
              "      <th>12</th>\n",
              "      <td>Libas Women Coffee Brown Solid Kurta with Pala...</td>\n",
              "      <td>Kurta with Palazzos</td>\n",
              "      <td>Coffee brown solid kurta with palazzos Coffee ...</td>\n",
              "      <td>Women</td>\n",
              "      <td>Clothing/Women/Kurta Sets/Libas/More by Libas</td>\n",
              "      <td>http://assets.myntassets.com/v1/assets/images/...</td>\n",
              "      <td>https://www.myntra.com/kurta-sets/libas/libas-...</td>\n",
              "      <td>Libas</td>\n",
              "      <td>Brown | Coffee Brown</td>\n",
              "      <td>Occasion : Daily | Number of Components : 2 | ...</td>\n",
              "    </tr>\n",
              "  </tbody>\n",
              "</table>\n",
              "</div>\n",
              "      <button class=\"colab-df-convert\" onclick=\"convertToInteractive('df-23cafe29-e046-44da-af62-0e2be5689751')\"\n",
              "              title=\"Convert this dataframe to an interactive table.\"\n",
              "              style=\"display:none;\">\n",
              "        \n",
              "  <svg xmlns=\"http://www.w3.org/2000/svg\" height=\"24px\"viewBox=\"0 0 24 24\"\n",
              "       width=\"24px\">\n",
              "    <path d=\"M0 0h24v24H0V0z\" fill=\"none\"/>\n",
              "    <path d=\"M18.56 5.44l.94 2.06.94-2.06 2.06-.94-2.06-.94-.94-2.06-.94 2.06-2.06.94zm-11 1L8.5 8.5l.94-2.06 2.06-.94-2.06-.94L8.5 2.5l-.94 2.06-2.06.94zm10 10l.94 2.06.94-2.06 2.06-.94-2.06-.94-.94-2.06-.94 2.06-2.06.94z\"/><path d=\"M17.41 7.96l-1.37-1.37c-.4-.4-.92-.59-1.43-.59-.52 0-1.04.2-1.43.59L10.3 9.45l-7.72 7.72c-.78.78-.78 2.05 0 2.83L4 21.41c.39.39.9.59 1.41.59.51 0 1.02-.2 1.41-.59l7.78-7.78 2.81-2.81c.8-.78.8-2.07 0-2.86zM5.41 20L4 18.59l7.72-7.72 1.47 1.35L5.41 20z\"/>\n",
              "  </svg>\n",
              "      </button>\n",
              "      \n",
              "  <style>\n",
              "    .colab-df-container {\n",
              "      display:flex;\n",
              "      flex-wrap:wrap;\n",
              "      gap: 12px;\n",
              "    }\n",
              "\n",
              "    .colab-df-convert {\n",
              "      background-color: #E8F0FE;\n",
              "      border: none;\n",
              "      border-radius: 50%;\n",
              "      cursor: pointer;\n",
              "      display: none;\n",
              "      fill: #1967D2;\n",
              "      height: 32px;\n",
              "      padding: 0 0 0 0;\n",
              "      width: 32px;\n",
              "    }\n",
              "\n",
              "    .colab-df-convert:hover {\n",
              "      background-color: #E2EBFA;\n",
              "      box-shadow: 0px 1px 2px rgba(60, 64, 67, 0.3), 0px 1px 3px 1px rgba(60, 64, 67, 0.15);\n",
              "      fill: #174EA6;\n",
              "    }\n",
              "\n",
              "    [theme=dark] .colab-df-convert {\n",
              "      background-color: #3B4455;\n",
              "      fill: #D2E3FC;\n",
              "    }\n",
              "\n",
              "    [theme=dark] .colab-df-convert:hover {\n",
              "      background-color: #434B5C;\n",
              "      box-shadow: 0px 1px 3px 1px rgba(0, 0, 0, 0.15);\n",
              "      filter: drop-shadow(0px 1px 2px rgba(0, 0, 0, 0.3));\n",
              "      fill: #FFFFFF;\n",
              "    }\n",
              "  </style>\n",
              "\n",
              "      <script>\n",
              "        const buttonEl =\n",
              "          document.querySelector('#df-23cafe29-e046-44da-af62-0e2be5689751 button.colab-df-convert');\n",
              "        buttonEl.style.display =\n",
              "          google.colab.kernel.accessAllowed ? 'block' : 'none';\n",
              "\n",
              "        async function convertToInteractive(key) {\n",
              "          const element = document.querySelector('#df-23cafe29-e046-44da-af62-0e2be5689751');\n",
              "          const dataTable =\n",
              "            await google.colab.kernel.invokeFunction('convertToInteractive',\n",
              "                                                     [key], {});\n",
              "          if (!dataTable) return;\n",
              "\n",
              "          const docLinkHtml = 'Like what you see? Visit the ' +\n",
              "            '<a target=\"_blank\" href=https://colab.research.google.com/notebooks/data_table.ipynb>data table notebook</a>'\n",
              "            + ' to learn more about interactive tables.';\n",
              "          element.innerHTML = '';\n",
              "          dataTable['output_type'] = 'display_data';\n",
              "          await google.colab.output.renderOutput(dataTable, element);\n",
              "          const docLink = document.createElement('div');\n",
              "          docLink.innerHTML = docLinkHtml;\n",
              "          element.appendChild(docLink);\n",
              "        }\n",
              "      </script>\n",
              "    </div>\n",
              "  </div>\n",
              "  "
            ]
          },
          "metadata": {},
          "execution_count": 81
        }
      ]
    },
    {
      "cell_type": "code",
      "source": [
        "num_rows = filtered_df.shape[0]\n",
        "print('Number of rows in filtered dataframe:', num_rows)"
      ],
      "metadata": {
        "colab": {
          "base_uri": "https://localhost:8080/"
        },
        "id": "ePC_P7dtzxTa",
        "outputId": "95a325b6-2c30-4180-c0ce-411111e0859b"
      },
      "execution_count": 82,
      "outputs": [
        {
          "output_type": "stream",
          "name": "stdout",
          "text": [
            "Number of rows in filtered dataframe: 6929\n"
          ]
        }
      ]
    },
    {
      "cell_type": "code",
      "source": [
        "filtered_df.shape[0]"
      ],
      "metadata": {
        "colab": {
          "base_uri": "https://localhost:8080/"
        },
        "id": "Kzl5qpgozxLx",
        "outputId": "a30f5350-b011-44e7-ce75-ec154aee198d"
      },
      "execution_count": 85,
      "outputs": [
        {
          "output_type": "execute_result",
          "data": {
            "text/plain": [
              "14"
            ]
          },
          "metadata": {},
          "execution_count": 85
        }
      ]
    },
    {
      "cell_type": "code",
      "source": [
        "keywords = ['child']\n",
        "\n",
        "#Check for extra spaces and convert to lower case\n",
        "keywords = [kw.strip().lower() for kw in keywords]\n",
        "\n",
        "# Join the keywords with \"|\" operator for matching the pattern\n",
        "pattern = '|'.join(keywords)\n",
        "\n",
        "# Use str.contains() for regular expression patterns\n",
        "filtered_df = df1[df1['product_type'].str.contains(pattern, flags=re.IGNORECASE) | \n",
        "                 df1['product_details'].str.contains(pattern, flags=re.IGNORECASE) | \n",
        "                 df1['type'].str.contains(pattern, flags=re.IGNORECASE)]\n",
        "\n",
        "filtered_df.shape[0]"
      ],
      "metadata": {
        "colab": {
          "base_uri": "https://localhost:8080/"
        },
        "id": "d-rYdwdHzxKY",
        "outputId": "f84705ed-bb2d-4177-d387-7e0f527cb73c"
      },
      "execution_count": 86,
      "outputs": [
        {
          "output_type": "execute_result",
          "data": {
            "text/plain": [
              "14"
            ]
          },
          "metadata": {},
          "execution_count": 86
        }
      ]
    },
    {
      "cell_type": "markdown",
      "source": [
        "### **Matched patterns transferred to resultant dataframe:**"
      ],
      "metadata": {
        "id": "3hHH1loUbDPf"
      }
    },
    {
      "cell_type": "code",
      "source": [
        "import pandas as pd\n",
        "\n",
        "age_groups_dict = {\n",
        "    \"Children\": \"t-shirt, jeans, shorts, smock dress, child, boys, girls\",\n",
        "    \"Teens\": \"skinny jeans, graphic tees, V-neck, sneakers, dresses, Off-shoulder\",\n",
        "    \"Adult\": \"chic, Off-shoulder, Bodycon, pencil skirt, blazers, blouses, jumpsuits, tops, sandals, mini skirts\"\n",
        "}\n",
        "\n",
        "\n",
        "dfmap = pd.DataFrame.from_dict(age_groups_dict, orient='index')\n",
        "dfmap = dfmap.reset_index()\n",
        "dfmap.columns = ['AgeGroups', 'Dresstypes']\n",
        "print(dfmap)"
      ],
      "metadata": {
        "colab": {
          "base_uri": "https://localhost:8080/"
        },
        "id": "-ZXlYuClzxDO",
        "outputId": "539b442f-7564-4c2a-c015-44c8a31aa28c"
      },
      "execution_count": 87,
      "outputs": [
        {
          "output_type": "stream",
          "name": "stdout",
          "text": [
            "  AgeGroups                                         Dresstypes\n",
            "0  Children  t-shirt, jeans, shorts, smock dress, child, bo...\n",
            "1     Teens  skinny jeans, graphic tees, V-neck, sneakers, ...\n",
            "2     Adult  chic, Off-shoulder, Bodycon, pencil skirt, bla...\n"
          ]
        }
      ]
    },
    {
      "cell_type": "markdown",
      "source": [
        "### **Function to recommend outfits based on predicted age group:**"
      ],
      "metadata": {
        "id": "jdWTThdJbJI6"
      }
    },
    {
      "cell_type": "code",
      "source": [
        "def recommend_age_based_outfits(input_values):\n",
        "  predicted_age_group = clf_age_based.predict(input_values)\n",
        "  dress_types = dfmap.loc[dfmap['AgeGroups'] == predicted_age_group[0], 'Dresstypes'].iloc[0]\n",
        "  keywords = dress_types.split(',')\n",
        "\n",
        "  #Check for extra spaces and convert to lower case\n",
        "  keywords = [kw.strip().lower() for kw in keywords]\n",
        "\n",
        "  # Join the keywords with \"|\" operator for matching the pattern\n",
        "  pattern = '|'.join(keywords)\n",
        "\n",
        "  # Use str.contains() for regular expression patterns\n",
        "  filtered_df = df1[df1['product_type'].str.contains(pattern, flags=re.IGNORECASE) | \n",
        "                  df1['product_details'].str.contains(pattern, flags=re.IGNORECASE) | \n",
        "                  df1['type'].str.contains(pattern, flags=re.IGNORECASE)]\n",
        "                  \n",
        "  filtered_df = filtered_df.assign(age_group=predicted_age_group[0])\n",
        "  return filtered_df"
      ],
      "metadata": {
        "id": "HTRkWMAizxAt"
      },
      "execution_count": 92,
      "outputs": []
    },
    {
      "cell_type": "code",
      "source": [
        "num_rows = filtered_df.shape[0]\n",
        "print('Number of rows in filtered dataframe:', num_rows)"
      ],
      "metadata": {
        "colab": {
          "base_uri": "https://localhost:8080/"
        },
        "id": "wWjUlWXdzw6p",
        "outputId": "f8c16c40-ac56-4102-def9-80471d387c8a"
      },
      "execution_count": 93,
      "outputs": [
        {
          "output_type": "stream",
          "name": "stdout",
          "text": [
            "Number of rows in filtered dataframe: 14\n"
          ]
        }
      ]
    },
    {
      "cell_type": "code",
      "source": [
        "filtered_df.shape[0]"
      ],
      "metadata": {
        "colab": {
          "base_uri": "https://localhost:8080/"
        },
        "id": "EoIKhyuwzwz5",
        "outputId": "04110f69-8e97-4f0e-e107-7c3bd459ea8d"
      },
      "execution_count": 94,
      "outputs": [
        {
          "output_type": "execute_result",
          "data": {
            "text/plain": [
              "14"
            ]
          },
          "metadata": {},
          "execution_count": 94
        }
      ]
    },
    {
      "cell_type": "code",
      "source": [
        "result = recommend_age_based_outfits([[4]])\n",
        "result"
      ],
      "metadata": {
        "colab": {
          "base_uri": "https://localhost:8080/",
          "height": 1000
        },
        "id": "JmooV3K6zwse",
        "outputId": "08c0d3f3-78f5-4584-f90d-3f51d41647b9"
      },
      "execution_count": 95,
      "outputs": [
        {
          "output_type": "stream",
          "name": "stderr",
          "text": [
            "/usr/local/lib/python3.10/dist-packages/sklearn/base.py:439: UserWarning: X does not have valid feature names, but DecisionTreeClassifier was fitted with feature names\n",
            "  warnings.warn(\n"
          ]
        },
        {
          "output_type": "execute_result",
          "data": {
            "text/plain": [
              "                                                   title  \\\n",
              "9      SALWAR STUDIO Boys Orange & White Printed Kurt...   \n",
              "16     612 league Boys Red & Beige Solid Kurta with C...   \n",
              "18     SOJANYA Boys Blue & Black Solid Kurta with Har...   \n",
              "36     SG YUVRAJ Boys Maroon & Navy Blue Solid Kurta ...   \n",
              "67     AJ Dezines Kids Beige & Pink Kurta Pyjama Wais...   \n",
              "...                                                  ...   \n",
              "14143  Yellow Kite Girls Blue & Coral Pink Lehenga Ch...   \n",
              "14144  SG YUVRAJ Boys Golden-Coloured & Red Self Desi...   \n",
              "14178      K&U Girls Green & Blue Printed Straight Kurta   \n",
              "14210  BownBee Boys Pink & Yellow Printed Kurta with ...   \n",
              "14228  LilPicks Boys Green & Yellow Printed Kurta wit...   \n",
              "\n",
              "                     product_type  \\\n",
              "9              Kurta with Pyjamas   \n",
              "16            Kurta with Churidar   \n",
              "18                    Solid Kurta   \n",
              "36            Kurta with Trousers   \n",
              "67                   Kurta Pyjama   \n",
              "...                           ...   \n",
              "14143  Lehenga Choli with Dupatta   \n",
              "14144         Kurta with Trousers   \n",
              "14178              Straight Kurta   \n",
              "14210      Kurta with Dhoti Pants   \n",
              "14228          Kurta with Pyjamas   \n",
              "\n",
              "                                         product_details ideal_for  \\\n",
              "9      Orange and white printed kurta with pyjamas Or...      Boys   \n",
              "16     Red and beige solid kurta with churidar  Red a...      Boys   \n",
              "18     Blue and black solid kurta with harem pants Bl...      Boys   \n",
              "36     Maroon and navy blue solid kurta with trousers...      Boys   \n",
              "67     AJ Dezines present this pink colored latest si...      Boys   \n",
              "...                                                  ...       ...   \n",
              "14143  Blue, gold-toned and coral pink lehenga choli ...     Girls   \n",
              "14144  Golden-coloured and red self design kurta with...      Boys   \n",
              "14178  Green and blue printed straight kurta, has a r...     Girls   \n",
              "14210  Pink and yellow printed kurta with dhoti pants...      Boys   \n",
              "14228  Green and yellow printed kurta with pyjamas  G...      Boys   \n",
              "\n",
              "                                                    type  \\\n",
              "9      Clothing/Boys/Kurta Sets/SALWAR STUDIO/More by...   \n",
              "16     Clothing/Boys/Kurta Sets/612 league/More by 61...   \n",
              "18      Clothing/Boys/Kurta Sets/SOJANYA/More by SOJANYA   \n",
              "36     Clothing/Boys/Kurta Sets/SG YUVRAJ/More by SG ...   \n",
              "67     Clothing/Boys/Kurta Sets/Aj DEZInES/More by Aj...   \n",
              "...                                                  ...   \n",
              "14143         Clothing/Girls/Lehenga Choli/YK/More by YK   \n",
              "14144  Clothing/Boys/Kurta Sets/SG YUVRAJ/More by SG ...   \n",
              "14178              Clothing/Girls/Kurtas/K&U/More by K&U   \n",
              "14210   Clothing/Boys/Kurta Sets/BownBee/More by BownBee   \n",
              "14228  Clothing/Boys/Kurta Sets/LilPicks/More by LilP...   \n",
              "\n",
              "                                                  images  \\\n",
              "9      http://assets.myntassets.com/v1/assets/images/...   \n",
              "16     http://assets.myntassets.com/v1/assets/images/...   \n",
              "18     http://assets.myntassets.com/v1/assets/images/...   \n",
              "36     http://assets.myntassets.com/v1/assets/images/...   \n",
              "67     http://assets.myntassets.com/v1/assets/images/...   \n",
              "...                                                  ...   \n",
              "14143  http://assets.myntassets.com/v1/assets/images/...   \n",
              "14144  http://assets.myntassets.com/v1/assets/images/...   \n",
              "14178  http://assets.myntassets.com/v1/assets/images/...   \n",
              "14210  http://assets.myntassets.com/v1/assets/images/...   \n",
              "14228  http://assets.myntassets.com/v1/assets/images/...   \n",
              "\n",
              "                                                    link          brand  \\\n",
              "9      https://www.myntra.com/kurta-sets/salwar-studi...  SALWAR STUDIO   \n",
              "16                        https://www.myntra.com/8991019     612 league   \n",
              "18     https://www.myntra.com/kurta-sets/sojanya/soja...        SOJANYA   \n",
              "36     https://www.myntra.com/kurta-sets/sg-yuvraj/sg...      SG YUVRAJ   \n",
              "67     https://www.myntra.com/kurta-sets/aj-dezines/a...     Aj DEZInES   \n",
              "...                                                  ...            ...   \n",
              "14143                     https://www.myntra.com/2063600             YK   \n",
              "14144  https://www.myntra.com/kurta-sets/sg-yuvraj/sg...      SG YUVRAJ   \n",
              "14178                     https://www.myntra.com/7761537            K&U   \n",
              "14210                     https://www.myntra.com/8034229        BownBee   \n",
              "14228  https://www.myntra.com/kurta-sets/lilpicks/lil...       LilPicks   \n",
              "\n",
              "                       actual_color  \\\n",
              "9                    White | Orange   \n",
              "16                      Beige | Red   \n",
              "18                     Black | Blue   \n",
              "36             Maroon | Blue | Navy   \n",
              "67                     Beige | Pink   \n",
              "...                             ...   \n",
              "14143  Yellow | Pink | Blue | Coral   \n",
              "14144                           Red   \n",
              "14178                  Blue | Green   \n",
              "14210                 Yellow | Pink   \n",
              "14228                Yellow | Green   \n",
              "\n",
              "                                          specifications age_group  \n",
              "9      Occasion : Festive | Number of Components : 2 ...  Children  \n",
              "16     Occasion : Festive | Number of Components : 3 ...  Children  \n",
              "18     Occasion : Festive | Number of Components : 3 ...  Children  \n",
              "36     Occasion : Festive | Number of Components : 3 ...  Children  \n",
              "67     Occasion : Festive | Number of Components : 3 ...  Children  \n",
              "...                                                  ...       ...  \n",
              "14143  Dupatta Fabric : Net | Body or Garment Size : ...  Children  \n",
              "14144  Occasion : Festive | Number of Components : 3 ...  Children  \n",
              "14178  Shape : Straight | Sleeve Styling : No Sleeves...  Children  \n",
              "14210  Occasion : Festive | Number of Components : 2 ...  Children  \n",
              "14228  Occasion : Daily | Number of Components : 2 | ...  Children  \n",
              "\n",
              "[668 rows x 11 columns]"
            ],
            "text/html": [
              "\n",
              "  <div id=\"df-fda4d61b-597d-44cc-8a69-ad01fd7f5034\">\n",
              "    <div class=\"colab-df-container\">\n",
              "      <div>\n",
              "<style scoped>\n",
              "    .dataframe tbody tr th:only-of-type {\n",
              "        vertical-align: middle;\n",
              "    }\n",
              "\n",
              "    .dataframe tbody tr th {\n",
              "        vertical-align: top;\n",
              "    }\n",
              "\n",
              "    .dataframe thead th {\n",
              "        text-align: right;\n",
              "    }\n",
              "</style>\n",
              "<table border=\"1\" class=\"dataframe\">\n",
              "  <thead>\n",
              "    <tr style=\"text-align: right;\">\n",
              "      <th></th>\n",
              "      <th>title</th>\n",
              "      <th>product_type</th>\n",
              "      <th>product_details</th>\n",
              "      <th>ideal_for</th>\n",
              "      <th>type</th>\n",
              "      <th>images</th>\n",
              "      <th>link</th>\n",
              "      <th>brand</th>\n",
              "      <th>actual_color</th>\n",
              "      <th>specifications</th>\n",
              "      <th>age_group</th>\n",
              "    </tr>\n",
              "  </thead>\n",
              "  <tbody>\n",
              "    <tr>\n",
              "      <th>9</th>\n",
              "      <td>SALWAR STUDIO Boys Orange &amp; White Printed Kurt...</td>\n",
              "      <td>Kurta with Pyjamas</td>\n",
              "      <td>Orange and white printed kurta with pyjamas Or...</td>\n",
              "      <td>Boys</td>\n",
              "      <td>Clothing/Boys/Kurta Sets/SALWAR STUDIO/More by...</td>\n",
              "      <td>http://assets.myntassets.com/v1/assets/images/...</td>\n",
              "      <td>https://www.myntra.com/kurta-sets/salwar-studi...</td>\n",
              "      <td>SALWAR STUDIO</td>\n",
              "      <td>White | Orange</td>\n",
              "      <td>Occasion : Festive | Number of Components : 2 ...</td>\n",
              "      <td>Children</td>\n",
              "    </tr>\n",
              "    <tr>\n",
              "      <th>16</th>\n",
              "      <td>612 league Boys Red &amp; Beige Solid Kurta with C...</td>\n",
              "      <td>Kurta with Churidar</td>\n",
              "      <td>Red and beige solid kurta with churidar  Red a...</td>\n",
              "      <td>Boys</td>\n",
              "      <td>Clothing/Boys/Kurta Sets/612 league/More by 61...</td>\n",
              "      <td>http://assets.myntassets.com/v1/assets/images/...</td>\n",
              "      <td>https://www.myntra.com/8991019</td>\n",
              "      <td>612 league</td>\n",
              "      <td>Beige | Red</td>\n",
              "      <td>Occasion : Festive | Number of Components : 3 ...</td>\n",
              "      <td>Children</td>\n",
              "    </tr>\n",
              "    <tr>\n",
              "      <th>18</th>\n",
              "      <td>SOJANYA Boys Blue &amp; Black Solid Kurta with Har...</td>\n",
              "      <td>Solid Kurta</td>\n",
              "      <td>Blue and black solid kurta with harem pants Bl...</td>\n",
              "      <td>Boys</td>\n",
              "      <td>Clothing/Boys/Kurta Sets/SOJANYA/More by SOJANYA</td>\n",
              "      <td>http://assets.myntassets.com/v1/assets/images/...</td>\n",
              "      <td>https://www.myntra.com/kurta-sets/sojanya/soja...</td>\n",
              "      <td>SOJANYA</td>\n",
              "      <td>Black | Blue</td>\n",
              "      <td>Occasion : Festive | Number of Components : 3 ...</td>\n",
              "      <td>Children</td>\n",
              "    </tr>\n",
              "    <tr>\n",
              "      <th>36</th>\n",
              "      <td>SG YUVRAJ Boys Maroon &amp; Navy Blue Solid Kurta ...</td>\n",
              "      <td>Kurta with Trousers</td>\n",
              "      <td>Maroon and navy blue solid kurta with trousers...</td>\n",
              "      <td>Boys</td>\n",
              "      <td>Clothing/Boys/Kurta Sets/SG YUVRAJ/More by SG ...</td>\n",
              "      <td>http://assets.myntassets.com/v1/assets/images/...</td>\n",
              "      <td>https://www.myntra.com/kurta-sets/sg-yuvraj/sg...</td>\n",
              "      <td>SG YUVRAJ</td>\n",
              "      <td>Maroon | Blue | Navy</td>\n",
              "      <td>Occasion : Festive | Number of Components : 3 ...</td>\n",
              "      <td>Children</td>\n",
              "    </tr>\n",
              "    <tr>\n",
              "      <th>67</th>\n",
              "      <td>AJ Dezines Kids Beige &amp; Pink Kurta Pyjama Wais...</td>\n",
              "      <td>Kurta Pyjama</td>\n",
              "      <td>AJ Dezines present this pink colored latest si...</td>\n",
              "      <td>Boys</td>\n",
              "      <td>Clothing/Boys/Kurta Sets/Aj DEZInES/More by Aj...</td>\n",
              "      <td>http://assets.myntassets.com/v1/assets/images/...</td>\n",
              "      <td>https://www.myntra.com/kurta-sets/aj-dezines/a...</td>\n",
              "      <td>Aj DEZInES</td>\n",
              "      <td>Beige | Pink</td>\n",
              "      <td>Occasion : Festive | Number of Components : 3 ...</td>\n",
              "      <td>Children</td>\n",
              "    </tr>\n",
              "    <tr>\n",
              "      <th>...</th>\n",
              "      <td>...</td>\n",
              "      <td>...</td>\n",
              "      <td>...</td>\n",
              "      <td>...</td>\n",
              "      <td>...</td>\n",
              "      <td>...</td>\n",
              "      <td>...</td>\n",
              "      <td>...</td>\n",
              "      <td>...</td>\n",
              "      <td>...</td>\n",
              "      <td>...</td>\n",
              "    </tr>\n",
              "    <tr>\n",
              "      <th>14143</th>\n",
              "      <td>Yellow Kite Girls Blue &amp; Coral Pink Lehenga Ch...</td>\n",
              "      <td>Lehenga Choli with Dupatta</td>\n",
              "      <td>Blue, gold-toned and coral pink lehenga choli ...</td>\n",
              "      <td>Girls</td>\n",
              "      <td>Clothing/Girls/Lehenga Choli/YK/More by YK</td>\n",
              "      <td>http://assets.myntassets.com/v1/assets/images/...</td>\n",
              "      <td>https://www.myntra.com/2063600</td>\n",
              "      <td>YK</td>\n",
              "      <td>Yellow | Pink | Blue | Coral</td>\n",
              "      <td>Dupatta Fabric : Net | Body or Garment Size : ...</td>\n",
              "      <td>Children</td>\n",
              "    </tr>\n",
              "    <tr>\n",
              "      <th>14144</th>\n",
              "      <td>SG YUVRAJ Boys Golden-Coloured &amp; Red Self Desi...</td>\n",
              "      <td>Kurta with Trousers</td>\n",
              "      <td>Golden-coloured and red self design kurta with...</td>\n",
              "      <td>Boys</td>\n",
              "      <td>Clothing/Boys/Kurta Sets/SG YUVRAJ/More by SG ...</td>\n",
              "      <td>http://assets.myntassets.com/v1/assets/images/...</td>\n",
              "      <td>https://www.myntra.com/kurta-sets/sg-yuvraj/sg...</td>\n",
              "      <td>SG YUVRAJ</td>\n",
              "      <td>Red</td>\n",
              "      <td>Occasion : Festive | Number of Components : 3 ...</td>\n",
              "      <td>Children</td>\n",
              "    </tr>\n",
              "    <tr>\n",
              "      <th>14178</th>\n",
              "      <td>K&amp;U Girls Green &amp; Blue Printed Straight Kurta</td>\n",
              "      <td>Straight Kurta</td>\n",
              "      <td>Green and blue printed straight kurta, has a r...</td>\n",
              "      <td>Girls</td>\n",
              "      <td>Clothing/Girls/Kurtas/K&amp;U/More by K&amp;U</td>\n",
              "      <td>http://assets.myntassets.com/v1/assets/images/...</td>\n",
              "      <td>https://www.myntra.com/7761537</td>\n",
              "      <td>K&amp;U</td>\n",
              "      <td>Blue | Green</td>\n",
              "      <td>Shape : Straight | Sleeve Styling : No Sleeves...</td>\n",
              "      <td>Children</td>\n",
              "    </tr>\n",
              "    <tr>\n",
              "      <th>14210</th>\n",
              "      <td>BownBee Boys Pink &amp; Yellow Printed Kurta with ...</td>\n",
              "      <td>Kurta with Dhoti Pants</td>\n",
              "      <td>Pink and yellow printed kurta with dhoti pants...</td>\n",
              "      <td>Boys</td>\n",
              "      <td>Clothing/Boys/Kurta Sets/BownBee/More by BownBee</td>\n",
              "      <td>http://assets.myntassets.com/v1/assets/images/...</td>\n",
              "      <td>https://www.myntra.com/8034229</td>\n",
              "      <td>BownBee</td>\n",
              "      <td>Yellow | Pink</td>\n",
              "      <td>Occasion : Festive | Number of Components : 2 ...</td>\n",
              "      <td>Children</td>\n",
              "    </tr>\n",
              "    <tr>\n",
              "      <th>14228</th>\n",
              "      <td>LilPicks Boys Green &amp; Yellow Printed Kurta wit...</td>\n",
              "      <td>Kurta with Pyjamas</td>\n",
              "      <td>Green and yellow printed kurta with pyjamas  G...</td>\n",
              "      <td>Boys</td>\n",
              "      <td>Clothing/Boys/Kurta Sets/LilPicks/More by LilP...</td>\n",
              "      <td>http://assets.myntassets.com/v1/assets/images/...</td>\n",
              "      <td>https://www.myntra.com/kurta-sets/lilpicks/lil...</td>\n",
              "      <td>LilPicks</td>\n",
              "      <td>Yellow | Green</td>\n",
              "      <td>Occasion : Daily | Number of Components : 2 | ...</td>\n",
              "      <td>Children</td>\n",
              "    </tr>\n",
              "  </tbody>\n",
              "</table>\n",
              "<p>668 rows × 11 columns</p>\n",
              "</div>\n",
              "      <button class=\"colab-df-convert\" onclick=\"convertToInteractive('df-fda4d61b-597d-44cc-8a69-ad01fd7f5034')\"\n",
              "              title=\"Convert this dataframe to an interactive table.\"\n",
              "              style=\"display:none;\">\n",
              "        \n",
              "  <svg xmlns=\"http://www.w3.org/2000/svg\" height=\"24px\"viewBox=\"0 0 24 24\"\n",
              "       width=\"24px\">\n",
              "    <path d=\"M0 0h24v24H0V0z\" fill=\"none\"/>\n",
              "    <path d=\"M18.56 5.44l.94 2.06.94-2.06 2.06-.94-2.06-.94-.94-2.06-.94 2.06-2.06.94zm-11 1L8.5 8.5l.94-2.06 2.06-.94-2.06-.94L8.5 2.5l-.94 2.06-2.06.94zm10 10l.94 2.06.94-2.06 2.06-.94-2.06-.94-.94-2.06-.94 2.06-2.06.94z\"/><path d=\"M17.41 7.96l-1.37-1.37c-.4-.4-.92-.59-1.43-.59-.52 0-1.04.2-1.43.59L10.3 9.45l-7.72 7.72c-.78.78-.78 2.05 0 2.83L4 21.41c.39.39.9.59 1.41.59.51 0 1.02-.2 1.41-.59l7.78-7.78 2.81-2.81c.8-.78.8-2.07 0-2.86zM5.41 20L4 18.59l7.72-7.72 1.47 1.35L5.41 20z\"/>\n",
              "  </svg>\n",
              "      </button>\n",
              "      \n",
              "  <style>\n",
              "    .colab-df-container {\n",
              "      display:flex;\n",
              "      flex-wrap:wrap;\n",
              "      gap: 12px;\n",
              "    }\n",
              "\n",
              "    .colab-df-convert {\n",
              "      background-color: #E8F0FE;\n",
              "      border: none;\n",
              "      border-radius: 50%;\n",
              "      cursor: pointer;\n",
              "      display: none;\n",
              "      fill: #1967D2;\n",
              "      height: 32px;\n",
              "      padding: 0 0 0 0;\n",
              "      width: 32px;\n",
              "    }\n",
              "\n",
              "    .colab-df-convert:hover {\n",
              "      background-color: #E2EBFA;\n",
              "      box-shadow: 0px 1px 2px rgba(60, 64, 67, 0.3), 0px 1px 3px 1px rgba(60, 64, 67, 0.15);\n",
              "      fill: #174EA6;\n",
              "    }\n",
              "\n",
              "    [theme=dark] .colab-df-convert {\n",
              "      background-color: #3B4455;\n",
              "      fill: #D2E3FC;\n",
              "    }\n",
              "\n",
              "    [theme=dark] .colab-df-convert:hover {\n",
              "      background-color: #434B5C;\n",
              "      box-shadow: 0px 1px 3px 1px rgba(0, 0, 0, 0.15);\n",
              "      filter: drop-shadow(0px 1px 2px rgba(0, 0, 0, 0.3));\n",
              "      fill: #FFFFFF;\n",
              "    }\n",
              "  </style>\n",
              "\n",
              "      <script>\n",
              "        const buttonEl =\n",
              "          document.querySelector('#df-fda4d61b-597d-44cc-8a69-ad01fd7f5034 button.colab-df-convert');\n",
              "        buttonEl.style.display =\n",
              "          google.colab.kernel.accessAllowed ? 'block' : 'none';\n",
              "\n",
              "        async function convertToInteractive(key) {\n",
              "          const element = document.querySelector('#df-fda4d61b-597d-44cc-8a69-ad01fd7f5034');\n",
              "          const dataTable =\n",
              "            await google.colab.kernel.invokeFunction('convertToInteractive',\n",
              "                                                     [key], {});\n",
              "          if (!dataTable) return;\n",
              "\n",
              "          const docLinkHtml = 'Like what you see? Visit the ' +\n",
              "            '<a target=\"_blank\" href=https://colab.research.google.com/notebooks/data_table.ipynb>data table notebook</a>'\n",
              "            + ' to learn more about interactive tables.';\n",
              "          element.innerHTML = '';\n",
              "          dataTable['output_type'] = 'display_data';\n",
              "          await google.colab.output.renderOutput(dataTable, element);\n",
              "          const docLink = document.createElement('div');\n",
              "          docLink.innerHTML = docLinkHtml;\n",
              "          element.appendChild(docLink);\n",
              "        }\n",
              "      </script>\n",
              "    </div>\n",
              "  </div>\n",
              "  "
            ]
          },
          "metadata": {},
          "execution_count": 95
        }
      ]
    }
  ]
}